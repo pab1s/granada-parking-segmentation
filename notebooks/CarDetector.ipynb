{
  "cells": [
    {
      "cell_type": "code",
      "execution_count": null,
      "metadata": {},
      "outputs": [],
      "source": [
        "import cv2\n",
        "import numpy as np\n",
        "import os\n",
        "\n",
        "# Ruta de la carpeta que contiene las imágenes\n",
        "folder_path = \"C:/Users/Ximo/Desktop/gt\"\n",
        "\n",
        "# Define the BGR value for blue\n",
        "blue_bgr = np.array([142, 0, 0])\n",
        "\n",
        "# Define a threshold for black pixels\n",
        "black_threshold = 30  # Adjust this value based on your image\n",
        "\n",
        "# Iterar a través de todas las imágenes en la carpeta\n",
        "for filename in os.listdir(folder_path):\n",
        "    if filename.endswith(\".png\"):\n",
        "        # Load the image\n",
        "        image_path = os.path.join(folder_path, filename)\n",
        "        image = cv2.imread(image_path)\n",
        "\n",
        "        # Create a mask for the specified blue color\n",
        "        blue_mask = np.all(image == blue_bgr, axis=-1)\n",
        "\n",
        "        # Find contours in the blue mask\n",
        "        contours, _ = cv2.findContours(np.uint8(blue_mask), cv2.RETR_EXTERNAL, cv2.CHAIN_APPROX_SIMPLE)\n",
        "\n",
        "        # Iterate through the contours\n",
        "        for contour in contours:\n",
        "            # Calculate the area of the contour\n",
        "            area = cv2.contourArea(contour)\n",
        "\n",
        "            # Calculate the perimeter of the contour\n",
        "            perimeter = cv2.arcLength(contour, True)\n",
        "\n",
        "            # Approximate the contour to a polygon\n",
        "            approx = cv2.approxPolyDP(contour, 0.02 * perimeter, True)\n",
        "\n",
        "            # Get the bounding box of the contour\n",
        "            x, y, w, h = cv2.boundingRect(contour)\n",
        "\n",
        "            # Extract the region of interest (ROI) for the bounding box\n",
        "            roi = image[y:y+h, x:x+w]\n",
        "\n",
        "            # Calculate the number of black pixels in the ROI\n",
        "            black_pixels = np.sum(roi < black_threshold)\n",
        "\n",
        "            # Calculate the total number of pixels in the ROI\n",
        "            total_pixels = roi.size\n",
        "\n",
        "            # Calculate the percentage of black pixels in the ROI\n",
        "            roi_percentage = black_pixels / total_pixels\n",
        "\n",
        "            # If 70% or more of the pixels in the ROI are black, fill the area with yellow\n",
        "            if roi_percentage >= 0.7:\n",
        "                cv2.drawContours(image, [contour], -1, (0, 255, 255), -1)\n",
        "\n",
        "        # Save the result with a new filename\n",
        "        result_filename = f\"{os.path.splitext(filename)[0]}_aparcado.png\"\n",
        "        result_path = os.path.join(folder_path, result_filename)\n",
        "        cv2.imwrite(result_path, image)\n"
      ]
    }
  ],
  "metadata": {
    "accelerator": "GPU",
    "colab": {
      "gpuType": "V100",
      "machine_shape": "hm",
      "provenance": []
    },
    "kernelspec": {
      "display_name": "Python 3",
      "name": "python3"
    },
    "language_info": {
      "codemirror_mode": {
        "name": "ipython",
        "version": 3
      },
      "file_extension": ".py",
      "mimetype": "text/x-python",
      "name": "python",
      "nbconvert_exporter": "python",
      "pygments_lexer": "ipython3",
      "version": "3.11.0"
    }
  },
  "nbformat": 4,
  "nbformat_minor": 0
}
